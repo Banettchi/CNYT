{
 "cells": [
  {
   "cell_type": "markdown",
   "id": "89e66669-ce38-4e79-8dd8-067b7ae16174",
   "metadata": {},
   "source": [
    "# RESPUESTAS \n",
    "\n",
    "## Ejercicio 1: Producto Interno Complejo para Vectores Columna\n",
    "\n",
    "Dados dos vectores columna complejos:\n",
    "\n",
    "$$ \\mathbf{a} = \\begin{bmatrix} 1 + 2i \\\\ 3 - 4i \\end{bmatrix}, \\quad \\mathbf{b} = \\begin{bmatrix} 2 - i \\\\ -1 + 3i \\end{bmatrix} $$\n",
    "\n",
    "Calcula el producto interno complejo $ \\langle \\mathbf{a}, \\mathbf{b} \\rangle $\n",
    "\n",
    "$$The Internal.Product.for.(a,b).is\\mathbf{} = \\begin{bmatrix} -15 + 0i  \\end{bmatrix} $$"
   ]
  },
  {
   "cell_type": "code",
   "execution_count": null,
   "id": "6e643133",
   "metadata": {},
   "outputs": [],
   "source": [
    "import numpy as np\n",
    "\n",
    "# Define two complex column vectors\n",
    "vector_a = np.array([1+2j, 3-4j])\n",
    "vector_b = np.array([2-1j, -1+3j])\n",
    "\n",
    "# Compute the complex internal product\n",
    "complex_internal_product_vector = np.vdot(vector_a, vector_b)\n",
    "\n",
    "complex_internal_product_vector"
   ]
  },
  {
   "cell_type": "markdown",
   "id": "a306632f-095f-41af-8bf6-b50ee568a06a",
   "metadata": {},
   "source": [
    "## Ejercicio 2: Valores y Vectores Propios de una Matriz Compleja\n",
    "\n",
    "Calcula los valores y vectores propios de la siguiente matriz compleja:\n",
    "\n",
    "$$\n",
    "B = \\begin{pmatrix}\n",
    "1 + 2i & 2 + 3i \\\\\n",
    "4 + 5i & 6 + 7i\n",
    "\\end{pmatrix}\n",
    "$$\n",
    "\n",
    "Donde \\(i\\) es la unidad imaginaria.\n",
    "\n",
    "**Sugerencia:** Asegúrate de que tu matriz esté definida con números complejos en Python utilizando `dtype=complex`.\n",
    "\n",
    "## Respuesta:\n",
    "\n",
    "$$ The.eigenvalues.for.A.are:  \n",
    " \\begin{pmatrix}\n",
    "-0.25519526-0.09363597i \\\\  7.25519526+9.09363597i \n",
    "\\end{pmatrix}\n",
    "$$\n",
    "$$ The.eigenvectors.for.A.are:  \\begin{pmatrix}\n",
    "0.8280679 & 0.35299759+0.04782692i \\\\-0.559984  -0.02686037i & 0.93440103\n",
    "\\end{pmatrix} $$"
   ]
  },
  {
   "cell_type": "code",
   "execution_count": null,
   "id": "e96487c2",
   "metadata": {},
   "outputs": [],
   "source": [
    "import numpy as np\n",
    "\n",
    "# Define a square matrix\n",
    "matrix_A = np.array([[1+2j, 2+3j], [4+5j, 6+7j]])\n",
    "\n",
    "# Compute eigenvalues and eigenvectors\n",
    "eigenvalues, eigenvectors = np.linalg.eig(matrix_A)\n",
    "\n",
    "print(\"Eigenvalues:\", eigenvalues)\n",
    "print(\"Eigenvectors:\\n\", eigenvectors)"
   ]
  },
  {
   "cell_type": "markdown",
   "id": "513d253e-6b11-409a-aafc-135d6518757f",
   "metadata": {},
   "source": [
    "## Ejercicio 3: Descomposición en Valores y Vectores Propios de una Matriz Simétrica\n",
    "\n",
    "Calcula los valores y vectores propios de la siguiente matriz simétrica:\n",
    "\n",
    "$$\n",
    "C = \\begin{pmatrix}\n",
    "5 & 4 \\\\\n",
    "4 & 5\n",
    "\\end{pmatrix}\n",
    "$$\n",
    "\n",
    "Discute las propiedades de los vectores y valores propios para matrices simétricas basándote en tus resultados.\n",
    "\n",
    "## Respuesta:\n",
    "\n",
    "$$ The.eigenvalues.for.A.are:  \n",
    " \\begin{pmatrix}\n",
    "9\\\\1\n",
    "\\end{pmatrix}\n",
    "$$\n",
    "$$ The.eigenvectors.for.A.are:  \\begin{pmatrix}\n",
    "0.70710678 & -0.70710678 \\\\0.70710678 &0.70710678\n",
    "\\end{pmatrix} $$\n"
   ]
  },
  {
   "cell_type": "code",
   "execution_count": null,
   "id": "cf73b5c3",
   "metadata": {},
   "outputs": [],
   "source": [
    "import numpy as np\n",
    "\n",
    "# Define a square matrix\n",
    "A = np.array([[5, 4], [4, 5]])\n",
    "\n",
    "# Compute eigenvalues and eigenvectors\n",
    "eigenvalues, eigenvectors = np.linalg.eig(A)\n",
    "\n",
    "print(\"Eigenvalues:\", eigenvalues)\n",
    "print(\"Eigenvectors:\\n\", eigenvectors)"
   ]
  },
  {
   "cell_type": "markdown",
   "id": "f9098711-d344-457d-aac0-2646e25ff44d",
   "metadata": {},
   "source": [
    "## Ejercicio 4: Graficación de Transformaciones de Matrices\n",
    "\n",
    "Considera la matriz:\n",
    "\n",
    "$$\n",
    "T = \\begin{pmatrix}\n",
    "2 & 1 \\\\\n",
    "1 & 3\n",
    "\\end{pmatrix}\n",
    "$$\n",
    "\n",
    "1. Grafica el círculo unitario.\n",
    "2. Aplica la matriz \\(T\\) para transformar el círculo unitario.\n",
    "3. Grafica la figura transformada.\n",
    "4. Muestra gráficamente que los vectores propios solo son multiplicados por un escalar cuando se transforman. (Grafica los vectores propios y los transformados).\n",
    "\n",
    "Explica cómo la matriz \\(T\\) transforma el círculo unitario basado en el gráfico resultante.\n",
    "\n",
    "## Respuesta:  \n",
    "### La matriz T tranforma al circulo unitario expandiéndolo y rotándolo. La expansión se produce porque los valores propios de T son mayores que uno, y la rotación se debe a que la matriz tiene parte imaginaria \n",
    "\n",
    "\n",
    "**Sugerencia:** Utiliza `numpy` para las operaciones de matrices y `matplotlib` para graficar.\n"
   ]
  },
  {
   "cell_type": "code",
   "execution_count": null,
   "id": "e6028f80",
   "metadata": {},
   "outputs": [],
   "source": [
    "import numpy as np\n",
    "import matplotlib.pyplot as plt\n",
    "\n",
    "# Define a transformation matrix\n",
    "T = np.array([[2, 1], [1, 3]])\n",
    "\n",
    "# Generate a set of vectors (unit circle)\n",
    "theta = np.linspace(0, 2*np.pi, 100)\n",
    "vectors = np.array([np.cos(theta), np.sin(theta)])\n",
    "\n",
    "# Apply the transformation\n",
    "transformed_vectors = T.dot(vectors)\n",
    "\n",
    "# Plotting\n",
    "plt.figure(figsize=(6,6))\n",
    "plt.plot(vectors[0], vectors[1], 'b', label='Original Vectors')  # Original vectors\n",
    "plt.plot(transformed_vectors[0], transformed_vectors[1], 'r', label='Transformed Vectors')  # Transformed vectors\n",
    "plt.axis('equal')\n",
    "plt.legend()\n",
    "plt.title('Matrix Transformation')\n",
    "plt.xlabel('X')\n",
    "plt.ylabel('Y')\n",
    "plt.grid(True)\n",
    "plt.show()"
   ]
  },
  {
   "cell_type": "markdown",
   "id": "1909a16a-4b1b-4ed4-b4ed-867bd11c625a",
   "metadata": {},
   "source": [
    "## Ejercicio 5: Descomposición en Valores y Vectores Propios de una Matriz Diagonal\n",
    "\n",
    "Calcula los valores y vectores propios de la siguiente matriz diagonal:\n",
    "\n",
    "$$\n",
    "D = \\begin{pmatrix}\n",
    "7 & 0 \\\\\n",
    "0 & -3\n",
    "\\end{pmatrix}\n",
    "$$\n",
    "\n",
    "Discute la importancia de los valores y vectores propios para las matrices diagonales.\n",
    "\n",
    "## Respuesta:\n",
    "\n",
    "$$ The.eigenvalues.for.A.are:  \n",
    " \\begin{pmatrix}\n",
    "7\\\\-3\n",
    "\\end{pmatrix}\n",
    "$$\n",
    "$$ The.eigenvectors.for.A.are:  \\begin{pmatrix}\n",
    "1 & 0 \\\\0 &1\n",
    "\\end{pmatrix} $$"
   ]
  },
  {
   "cell_type": "code",
   "execution_count": 2,
   "id": "615168dd-713f-45f3-9e66-ccc96582d4d5",
   "metadata": {},
   "outputs": [
    {
     "name": "stdout",
     "output_type": "stream",
     "text": [
      "Addition: (3+2j)\n",
      "Subtraction: (1+4j)\n",
      "Multiplication: (5+1j)\n",
      "Division: (-0.5+2.5j)\n",
      "Conjugate of z1: (2-3j)\n",
      "Absolute value of z1: 3.605551275463989\n",
      "Absolute value of z1: 1.4142135623730951\n",
      "Absolute value of z1: 2.8284271247461903\n"
     ]
    }
   ],
   "source": [
    "import numpy as np\n",
    "\n",
    "# Define a square matrix\n",
    "A = np.array([[7, 0], [0, -3]])\n",
    "\n",
    "# Compute eigenvalues and eigenvectors\n",
    "eigenvalues, eigenvectors = np.linalg.eig(A)\n",
    "\n",
    "print(\"Eigenvalues:\", eigenvalues)\n",
    "print(\"Eigenvectors:\\n\", eigenvectors)"
   ]
  }
 ],
 "metadata": {
  "kernelspec": {
   "display_name": "Python 3 (ipykernel)",
   "language": "python",
   "name": "python3"
  },
  "language_info": {
   "codemirror_mode": {
    "name": "ipython",
    "version": 3
   },
   "file_extension": ".py",
   "mimetype": "text/x-python",
   "name": "python",
   "nbconvert_exporter": "python",
   "pygments_lexer": "ipython3",
   "version": "3.12.3"
  }
 },
 "nbformat": 4,
 "nbformat_minor": 5
}
