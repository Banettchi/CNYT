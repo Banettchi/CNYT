{
 "cells": [
  {
   "cell_type": "markdown",
   "id": "a07bd584",
   "metadata": {},
   "source": [
    "# RESPUESTAS \n",
    "\n",
    "## Ejercicio 1: Adición de vectores complejos.\n",
    "Dado dos vectores complejos\n",
    "$$ v1 = \\begin{bmatrix} 1 + 2i \\\\ 3 - i \\end{bmatrix} $$ \n",
    "y \n",
    "$$ v2 = \\begin{bmatrix} 2 - i \\\\ 4 + 2i \\end{bmatrix} $$\n",
    "Encuentra su suma.\n",
    "\n",
    "## Respuesta\n",
    "Como se observa en el código, la suma de estos dos vectores es:\n",
    "$$ v1 + v2 = \\begin{bmatrix} 3 + i \\\\ 7 + i \\end{bmatrix} $$"
   ]
  },
  {
   "cell_type": "code",
   "execution_count": null,
   "id": "029f08ba-1cdc-4928-9631-f62c51ab7aa5",
   "metadata": {},
   "outputs": [],
   "source": [
    "import numpy as np\n",
    "\n",
    "# Define two complex column vectors\n",
    "v1 = np.array([[1+2j], [3-1j]])\n",
    "v2 = np.array([[2-1j], [4+2j]])\n",
    "print(\"v1 = \",v1)\n",
    "print(\"v2 = \",v1)\n",
    "# Sum\n",
    "sum_v = v1 + v2\n",
    "print(\"v1 + v2 = \",sum_v)"
   ]
  },
  {
   "cell_type": "markdown",
   "id": "975c2284",
   "metadata": {},
   "source": [
    "## Ejercicio 2: Inverso de un vector complejo.\n",
    "Dado un vector complejo \n",
    "$$ v = \\begin{bmatrix} 2 + 3i \\\\ 1 - 2i \\end{bmatrix} $$\n",
    "Encuentra su Inverso (aditivo).\n",
    ">\n",
    "## Respuesta\n",
    "Como se observa en el código, la respuesta de la negación de este vector es:\n",
    "$$ -(v) = \\begin{bmatrix} -2 - 3i \\\\ -1 + 2i \\end{bmatrix} $$"
   ]
  },
  {
   "cell_type": "code",
   "id": "e8058abe",
   "metadata": {
    "jupyter": {
     "is_executing": true
    }
   },
   "source": [
    "\n",
    "import numpy as np\n",
    "\n",
    "# Define one complex column vector\n",
    "v1 = np.array([[2+3j], [1-2j]])\n",
    "# Negation\n",
    "neg_v1 = -v1\n",
    "print(\"v1 = \",v1)\n",
    "print(\"-(v1) = \",neg_v1)\n"
   ],
   "outputs": [],
   "execution_count": null
  },
  {
   "cell_type": "markdown",
   "id": "995ae5fc",
   "metadata": {},
   "source": [
    "### Ejercicio 3: Multiplicación de un Vector Complejo por un Escalar\n",
    "Multiplica el vector complejo\n",
    "$$ v = \\begin{bmatrix} 1 - i \\\\ 2 + 2i \\end{bmatrix} $$ \n",
    "por el escalar complejo $$ 3 + i $$\n",
    "\n",
    "## Respuesta\n",
    "Como se observa en el código, el resultado de la multiplicación de este vector complejo por un escalar es:\n",
    "$$ (3+i) *v = \\begin{bmatrix} 4 - 2i \\\\ 4 + 8i \\end{bmatrix} $$"
   ]
  },
  {
   "cell_type": "code",
   "execution_count": null,
   "id": "f8858559",
   "metadata": {},
   "outputs": [],
   "source": [
    "# Define one complex column vector\n",
    "v1 = np.array([[1-1j], [2+2j]])\n",
    "\n",
    "# Multiplication by a scalar\n",
    "scalar = 3 + 1j\n",
    "mult_v1 = v1 * scalar\n",
    "\n",
    "print(\"v1 = \",v1)\n",
    "print(\"Scalar = \",scalar)\n",
    "print(\"Scalar*v1 = \",mult_v1)"
   ]
  },
  {
   "cell_type": "markdown",
   "id": "9385c1f0",
   "metadata": {},
   "source": [
    "### Ejercicio 4: Transpuesta de un Vector Complejo\n",
    "Encuentra la transpuesta del vector complejo \n",
    "$$ v = \\begin{bmatrix} 2 - i \\\\ 3 + 4i \\end{bmatrix} $$\n",
    "\n",
    "## Respuesta\n",
    "Como se observa en el código, la respuesta de la transposición de este vector complejo es:\n",
    "$$ T(v) = \\begin{bmatrix} 2 - i \\\\ 3 + 4i \\end{bmatrix} $$"
   ]
  },
  {
   "cell_type": "code",
   "execution_count": null,
   "id": "b81ecc57",
   "metadata": {},
   "outputs": [],
   "source": [
    "# Define one complex column vector\n",
    "v1 = np.array([[2-1j], [3+4j]])\n",
    "\n",
    "# Transpose\n",
    "transpose_v1 = v1.T\n",
    "\n",
    "print(\"v1 = \",v1)\n",
    "print(\"transpose = \",transpose_v1)\n"
   ]
  },
  {
   "cell_type": "markdown",
   "id": "ed909545-8a5c-4cca-85f7-48688b597598",
   "metadata": {},
   "source": [
    "### Ejercicio 5: Conjugado de un Vector Complejo\n",
    "Calcula el conjugado del vector complejo\n",
    "$$ v = \\begin{bmatrix} 2 - i \\\\ 3 + 4i \\end{bmatrix} $$\n",
    "\n",
    "## Respuesta\n",
    "Como se observa en el código, la respuesta del conjugado de este vector complejo es:\n",
    "$$ C(v) = \\begin{bmatrix} 2 + i \\\\ 3 - 4i \\end{bmatrix} $$"
   ]
  },
  {
   "cell_type": "code",
   "execution_count": null,
   "id": "0930dc10-af6d-427f-bbcb-75bfaf051db5",
   "metadata": {},
   "outputs": [],
   "source": [
    "# Define one complex column vector\n",
    "v1 = np.array([[2-1j], [3+4j]])\n",
    "\n",
    "# Conjugate\n",
    "conjugate_v1 = np.conjugate(v1)\n",
    "\n",
    "print(\"v1 = \",v1)\n",
    "print(\"conjugate = \",conjugate_v1)"
   ]
  },
  {
   "cell_type": "markdown",
   "id": "b3fe896b",
   "metadata": {},
   "source": [
    "### Ejercicio 6: Adjunta (Transpuesta Conjugada) de un Vector Complejo\n",
    "Encuentra la adjunta (o transpuesta conjugada) del vector complejo\n",
    "$$ v = \\begin{bmatrix} 1 - 2i \\\\ 3 + i \\end{bmatrix} $$\n",
    "\n",
    "## Respuesta\n",
    "Como se observa en el código, la respuesta de la adjunta (Transpuesta Conjugada) de este vector complejo es:\n",
    "$$ Adj(v) = \\begin{bmatrix} 1 + 2i \\\\ 3 - i \\end{bmatrix} $$"
   ]
  },
  {
   "cell_type": "code",
   "execution_count": null,
   "id": "e514d047",
   "metadata": {},
   "outputs": [],
   "source": [
    "\n",
    "# Define one complex column vector\n",
    "v1 = np.array([[1-2j], [3+1j]])\n",
    "\n",
    "# Adjunct (Conjugate transpose)\n",
    "adjunct_v1 = v1.T.conj()\n",
    "\n",
    "print(\"v1 = \",v1)\n",
    "print(\"adjunct = \",adjunct_v1)"
   ]
  },
  {
   "cell_type": "markdown",
   "id": "5adf9d8a-af43-4074-ab1a-3cabdc4accff",
   "metadata": {},
   "source": [
    "## Operaciones con Matrices Cuadradas Complejas\n",
    "\n",
    "### Ejercicio 7: Suma de Dos Matrices Complejas\n",
    "Dadas dos matrices complejas \n",
    "$$ m1 = \\begin{bmatrix} 1 + i & 2 - i \\\\ 3 + 2i & 4 \\end{bmatrix} $$ \n",
    "y\n",
    "$$ m2 = \\begin{bmatrix} 2 - 3i & 1 \\\\ i & 2 + 2i \\end{bmatrix} $$\n",
    "calcula su suma.\n",
    "\n",
    "## Respuesta\n",
    "Como se observa en el código, la respuesta de la suma de estas dos matrices complejas es:\n",
    "$$ m1 + m2 = \\begin{bmatrix} 3 - 2i & 4 + 2i \\\\ 2  & 6 + 2i \\end{bmatrix} $$"
   ]
  },
  {
   "cell_type": "code",
   "execution_count": null,
   "id": "a7c0e8fd",
   "metadata": {},
   "outputs": [],
   "source": [
    "# Define two 2x2 complex matrices\n",
    "m1 = np.array([[1+1j, 3+2j], \n",
    "               [2-1j, 4]])\n",
    "m2 = np.array([[2-3j, 1], \n",
    "               [1j, 2+2j]])\n",
    "\n",
    "# Sum\n",
    "sum_m = m1 + m2\n",
    "\n",
    "print(\"m1 = \",m1)\n",
    "print(\"m2 = \",m2)\n",
    "print(\"m1+m2 = \",sum_m)"
   ]
  },
  {
   "cell_type": "markdown",
   "id": "f2d72db8",
   "metadata": {},
   "source": [
    "### Ejercicio 8: Negación de una Matriz Compleja\n",
    "Encuentra la negación de la matriz compleja \n",
    "$$ m = \\begin{bmatrix} 2 + i & 3 \\\\ 1 - i & 2 + 2i \\end{bmatrix} $$.\n",
    "\n",
    "## Respuesta\n",
    "Encuentra la negación de la matriz complejas:\n",
    "$$ -(m) = \\begin{bmatrix} -2 - i & -3 \\\\ -1 + i  & -2 - 2i \\end{bmatrix} $$"
   ]
  },
  {
   "cell_type": "code",
   "execution_count": 3,
   "id": "0fe78fdc",
   "metadata": {},
   "outputs": [
    {
     "name": "stdout",
     "output_type": "stream",
     "text": [
      "[[3.+1.j]\n",
      " [5.+3.j]]\n"
     ]
    }
   ],
   "source": [
    "# Define one 2x2 complex matrix\n",
    "m1 = np.array([[2+1j, 3], \n",
    "               [1-1j, 2+2j]])\n",
    "# Negation\n",
    "neg_m1 = -m1\n",
    "\n",
    "print(\"m1 = \",m1)\n",
    "print(\"m1+m2 = \",neg_m1)\n",
    "\n"
   ]
  },
  {
   "cell_type": "markdown",
   "id": "a806ad32",
   "metadata": {},
   "source": [
    "### Ejercicio 9: Multiplicación de una Matriz Compleja por un Escalar\n",
    "Multiplica la matriz compleja\n",
    "$$ m = \\begin{bmatrix} 1 - i & 2 \\\\ 3 + i & 4 - 2i \\end{bmatrix} $$ \n",
    "por el escalar complejo $$ 2 + 3i $$\n",
    "\n",
    "## Respuesta\n",
    "Como se observa en el código, la respuesta de la multiplicación de esta matriz compleja por el escalar es:\n",
    "$$ (2 + 3i)*m = \\begin{bmatrix} 5 + i & 4 + 6i \\\\ 3 + 11i  & 14 + 8i \\end{bmatrix} $$"
   ]
  },
  {
   "cell_type": "code",
   "execution_count": 4,
   "id": "15789a12",
   "metadata": {},
   "outputs": [
    {
     "name": "stdout",
     "output_type": "stream",
     "text": [
      "[[-2.-3.j]\n",
      " [-1.+2.j]]\n"
     ]
    }
   ],
   "source": [
    "# Define one 2x2 complex matrix\n",
    "m1 = np.array([[1 - 1j, 2], \n",
    "               [3 + 1j, 4 - 2j]])\n",
    "# Multiplication by a scalar\n",
    "scalar = 2 + 3j\n",
    "mult_m1 = m1 * scalar\n",
    "\n",
    "print(\"m1 = \",m1)\n",
    "print(\"m1+m2 = \",mult_m1)\n",
    "\n"
   ]
  },
  {
   "cell_type": "markdown",
   "id": "2358e319",
   "metadata": {},
   "source": [
    "### Ejercicio 10: Conjugado de una Matriz Compleja\n",
    "Calcula el conjugado de la matriz compleja\n",
    "$$ m = \\begin{bmatrix} 1 + i & 2 \\\\ 3 - i & 4 + 2i \\end{bmatrix} $$\n",
    "\n",
    "## Respuesta\n",
    "Como se observa en el código, la respuesta del conjugado de esta matriz compleja es:\n",
    "$$ C(m)  = \\begin{bmatrix} 1 - i & 2 \\\\ 3 + i  & 4 - 2i \\end{bmatrix} $$"
   ]
  },
  {
   "cell_type": "code",
   "execution_count": 8,
   "id": "c9a288f3",
   "metadata": {},
   "outputs": [
    {
     "name": "stdout",
     "output_type": "stream",
     "text": [
      "[[4.-2.j]\n",
      " [4.+8.j]]\n"
     ]
    }
   ],
   "source": [
    "# Define one 2x2 complex matrix\n",
    "m1 = np.array([[1+1j, 2], \n",
    "               [3-1j, 4+2j]])\n",
    "\n",
    "# Conjugate\n",
    "conjugate_m1 = np.conjugate(m1)\n",
    "\n",
    "print(\"m1 = \",m1)\n",
    "print(\"C(m1) = \",conjugate_m1)"
   ]
  },
  {
   "cell_type": "markdown",
   "id": "705d5005",
   "metadata": {},
   "source": [
    "### Ejercicio 11: Transpuesta de una Matriz Compleja\n",
    "Encuentra la transpuesta de la matriz compleja\n",
    "$$ m = \\begin{bmatrix} 1 - i & 2 + 2i \\\\ 3 & 4 - i \\end{bmatrix} $$\n",
    "\n",
    "## Respuesta\n",
    "Como se observa en el código, la respuesta de la transpuesta de esta matriz compleja es::\n",
    "$$ T(m) = \\begin{bmatrix} 1 - i & 3 \\\\ 2+ 2i  & 4 - 1i \\end{bmatrix} $$"
   ]
  },
  {
   "cell_type": "code",
   "execution_count": 26,
   "id": "69fafc36",
   "metadata": {},
   "outputs": [
    {
     "name": "stdout",
     "output_type": "stream",
     "text": [
      "[[2.-1.j 3.+4.j]]\n"
     ]
    }
   ],
   "source": [
    "# Define one 2x2 complex matrix\n",
    "m1 = np.array([[1-1j, 2+2j], \n",
    "               [3, 4-1j]])\n",
    "\n",
    "# Transpose\n",
    "transpose_m1 = m1.T\n",
    "\n",
    "print(\"m1 = \",m1)\n",
    "print(\"T(m1) = \",transpose_m1)"
   ]
  },
  {
   "cell_type": "markdown",
   "id": "76dc0781",
   "metadata": {},
   "source": [
    "### Ejercicio 12: Adjunta (Transpuesta Conjugada) de una Matriz Compleja\n",
    "Calcula la adjunta (o transpuesta conjugada) de la matriz compleja\n",
    "$$ m = \\begin{bmatrix} 1 + 2i & 3 - i \\\\ 4 & 5 + i \\end{bmatrix} $$\n",
    "\n",
    "## Respuesta\n",
    "Como se observa en el código, la respuesta de la adjunta de esta matriz compleja es:\n",
    "$$ Adj(m) = \\begin{bmatrix} 1 - 2i & 4 \\\\ 3 + i  & 5 - i \\end{bmatrix} $$"
   ]
  },
  {
   "cell_type": "code",
   "execution_count": 10,
   "id": "15e7ecc6",
   "metadata": {},
   "outputs": [
    {
     "name": "stdout",
     "output_type": "stream",
     "text": [
      "[[1.-1.j]\n",
      " [2.+3.j]]\n"
     ]
    }
   ],
   "source": [
    "# Define one 2x2 complex matrix\n",
    "m1 = np.array([[1+2j, 3-1j], \n",
    "               [4, 5+1j]])\n",
    "\n",
    "# Adjunct (Conjugate transpose)\n",
    "adjunct_m1 = m1.T.conj()\n",
    "\n",
    "print(\"m1 = \",m1)\n",
    "print(\"Adj(m1) = \",adjunct_m1)"
   ]
  },
  {
   "cell_type": "markdown",
   "id": "233a87ba",
   "metadata": {},
   "source": [
    "### Ejercicio 13: Comprobación de las Dimensiones de una Matriz\n",
    "Determina las dimensiones de la matriz compleja \n",
    "$$ m = \\begin{bmatrix} 1 - i & 2 \\\\ 3 + 2i & 4 - i \\end{bmatrix} $$\n",
    "\n",
    "## Respuesta\n",
    "Como se observa en el código, la respuesta de las dimensiones de esta matriz compleja es:\n",
    "$$ Dim(m) =  (2,2)$$"
   ]
  },
  {
   "cell_type": "code",
   "execution_count": 11,
   "id": "617260f7",
   "metadata": {},
   "outputs": [
    {
     "name": "stdout",
     "output_type": "stream",
     "text": [
      "[[1.+2.j 3.-1.j]]\n"
     ]
    }
   ],
   "source": [
    "# Define one 2x2 complex matrix\n",
    "m1 = np.array([[1-1j, 2], \n",
    "               [3+2j, 4-1j]])\n",
    "dimension_m1=m1.shape\n",
    "print(\"m1 = \",m1)\n",
    "print(\"Dim(m1) = \",dimension_m1)\n",
    "\n"
   ]
  },
  {
   "cell_type": "markdown",
   "id": "8a7d87ad",
   "metadata": {},
   "source": [
    "## Multiplicación de Matrices y Vectores\n",
    "\n",
    "### Ejercicio 14: Multiplicación de una Matriz Cuadrada Compleja por un Vector Columna Complejo\n",
    "Multiplica la matriz cuadrada compleja\n",
    "$$ m = \\begin{bmatrix} 1 + i & 2 - i \\\\ 3 & 4 + i \\end{bmatrix} $$ \n",
    "por el vector columna complejo \n",
    "$$ v = \\begin{bmatrix} 2 - i \\\\ 1 + 3i \\end{bmatrix} $$\n",
    "\n",
    "## Respuesta\n",
    "Como se observa en el código, la respuesta de la multiplicación de esta matriz cuadrada compleja por este vector columna complejo es:\n",
    "$$ m1*v1 = \\begin{bmatrix} 8 + 6i \\\\ 7 + 10j \\end{bmatrix} $$"
   ]
  },
  {
   "cell_type": "code",
   "execution_count": 13,
   "id": "321dc9a6",
   "metadata": {},
   "outputs": [
    {
     "name": "stdout",
     "output_type": "stream",
     "text": [
      "[[3.-2.j 3.-1.j]\n",
      " [3.+3.j 6.+2.j]]\n"
     ]
    }
   ],
   "source": [
    "\n",
    "m1 = np.array([[1+1j, 2-1j], \n",
    "               [3, 4+1j]])\n",
    "v1 = np.array([[2-1j], [1+3j]])\n",
    "result = np.dot(m1, v1)\n",
    "\n",
    "print(\"m1 = \",m1)\n",
    "print(\"v1 = \",v1)\n",
    "print(\"m1*v1 = \",result)"
   ]
  }
 ],
 "metadata": {
  "kernelspec": {
   "display_name": "Python 3 (ipykernel)",
   "language": "python",
   "name": "python3"
  },
  "language_info": {
   "codemirror_mode": {
    "name": "ipython",
    "version": 3
   },
   "file_extension": ".py",
   "mimetype": "text/x-python",
   "name": "python",
   "nbconvert_exporter": "python",
   "pygments_lexer": "ipython3",
   "version": "3.12.3"
  }
 },
 "nbformat": 4,
 "nbformat_minor": 5
}
